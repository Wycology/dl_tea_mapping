{
  "nbformat": 4,
  "nbformat_minor": 0,
  "metadata": {
    "colab": {
      "provenance": [],
      "authorship_tag": "ABX9TyOww2calgRP5xiMNuFXpkel",
      "include_colab_link": true
    },
    "kernelspec": {
      "name": "python3",
      "display_name": "Python 3"
    },
    "language_info": {
      "name": "python"
    }
  },
  "cells": [
    {
      "cell_type": "markdown",
      "metadata": {
        "id": "view-in-github",
        "colab_type": "text"
      },
      "source": [
        "<a href=\"https://colab.research.google.com/github/Wycology/dl_tea_mapping/blob/main/dl_tea.ipynb\" target=\"_parent\"><img src=\"https://colab.research.google.com/assets/colab-badge.svg\" alt=\"Open In Colab\"/></a>"
      ]
    },
    {
      "cell_type": "markdown",
      "source": [
        "# <font color='green'><b> SATELLITE DATA FOR AGRICULTURAL ECONOMISTS</b></font>\n",
        "\n",
        "\n",
        "<font color='blue'><b>THEORY AND PRACTICE</b></font>\n",
        "\n",
        "**Mapping tea plantations in Central Kenya: _Deep Learning Approach_**\n",
        "\n",
        "\n",
        "*David Wuepper, Lisa Biber-Freudenberger, Hadi, Wyclife Agumba Oluoch*\n",
        "\n",
        "[Land Economics Group](https://www.ilr1.uni-bonn.de/en/research/research-groups/land-economics), University of Bonn, Bonn, Germany\n",
        "\n",
        "---\n",
        "\n",
        "# **Background**\n",
        "\n",
        "\n",
        "---"
      ],
      "metadata": {
        "id": "TkemFw3E0WAp"
      }
    },
    {
      "cell_type": "markdown",
      "source": [
        "In this tutorial, we introduce basics of using deep learning approach to segment tea fields with a practical example at the foot of Mount Kenya. We obtained high resolution Sentinel-2 satellite image from [Google Earth Engine](https://code.earthengine.google.com/60cf3e783458009bd8378eaded30f5c7). On the other hand, we obtained labels by manually digitizing tea plantations within QGIS using Google Satellite Hybrid basemap. The labels cover a small portion of the downloaded Satellite image so that we can train the model and use it to segment tea fields elsewhere.\n",
        "We used torchgeo for this modeling task due to the following reasons:\n",
        "1. It is simple to use, eliminating a lot of issues such as georeferencing, chipping, label creation.\n",
        "2. It also maximally obtain training samples from the region of interest."
      ],
      "metadata": {
        "id": "UoK9t_IT0d7Z"
      }
    },
    {
      "cell_type": "markdown",
      "source": [
        "## Loading libraries\n",
        "---\n",
        "Since [torchgeo](https://torchgeo.readthedocs.io/en/latest/) is not natively installed in colab, we will have to install it. We will also install [torchseg](https://pypi.org/project/torchseg/0.0.1a1/) to help with the segmentation work. Other supporting libraries will just be imported as they are already pre-installed in colab."
      ],
      "metadata": {
        "id": "_jd9jmSt0iue"
      }
    },
    {
      "cell_type": "code",
      "source": [
        "# Install libraries not already available in colab\n",
        "!pip install torchgeo\n",
        "!pip install torchseg"
      ],
      "metadata": {
        "id": "ikM6_Uno0cQD"
      },
      "execution_count": null,
      "outputs": []
    },
    {
      "cell_type": "code",
      "source": [
        "# Import the necessary libraries\n",
        "import json\n",
        "import torch\n",
        "import rasterio\n",
        "import torchseg\n",
        "import torchgeo\n",
        "import numpy as np\n",
        "import torch.nn as nn\n",
        "from tqdm import tqdm\n",
        "import matplotlib.pyplot as plt\n",
        "from torch.utils.data import DataLoader\n",
        "from torchgeo.transforms import AppendNDVI\n",
        "from rasterio.transform import from_bounds\n",
        "from torchgeo.samplers import RandomGeoSampler, GridGeoSampler\n",
        "from torchgeo.datasets import VectorDataset, RasterDataset, stack_samples"
      ],
      "metadata": {
        "id": "EPvUqX9Z0mny"
      },
      "execution_count": null,
      "outputs": []
    },
    {
      "cell_type": "markdown",
      "source": [
        "After installing the libraries, we make an important step of confirming the working directory. This is important since both our image and gpkg will be read from this location so we need to be sure of the path. We can use `pwd` function to print it."
      ],
      "metadata": {
        "id": "jcnZD7xt0ty0"
      }
    },
    {
      "cell_type": "code",
      "source": [
        "pwd # Confirm the working directory"
      ],
      "metadata": {
        "colab": {
          "base_uri": "https://localhost:8080/",
          "height": 36
        },
        "id": "Dg5Z4M1-0rN8",
        "outputId": "99e0136c-fc8c-4332-dd4b-cbc29cc42f2e"
      },
      "execution_count": null,
      "outputs": [
        {
          "output_type": "execute_result",
          "data": {
            "text/plain": [
              "'/content'"
            ],
            "application/vnd.google.colaboratory.intrinsic+json": {
              "type": "string"
            }
          },
          "metadata": {},
          "execution_count": 17
        }
      ]
    },
    {
      "cell_type": "markdown",
      "source": [
        "# Defining the Dataset\n",
        "---\n",
        "With `torchgeo`, we do not have to pre-chip the satellite image into small chips of say 256 by 256 pixels. This it achieves on the fly. However, we need to tell it the path to where our satellite image is. In fact, we can have several large images here. For now, it is the only _.tif_ image our working directory, wo we define the class as follows:"
      ],
      "metadata": {
        "id": "hRrZylsA0zhY"
      }
    },
    {
      "cell_type": "code",
      "source": [
        "# Define the GeoTiff dataset class\n",
        "\n",
        "class GeoTiffDataset(RasterDataset):\n",
        "  filename_glob = \"*.tif\"\n",
        "raster_data = GeoTiffDataset(paths = \"/content\")"
      ],
      "metadata": {
        "id": "VBq6ifSE0rKh"
      },
      "execution_count": null,
      "outputs": []
    },
    {
      "cell_type": "markdown",
      "source": [
        "In that case, raster_data is a blueprint of the satellite image we have in the directory. Next, we do the same for the label data. This label data is a _.gpkg_ file which has a column stating the identity of the each polygon as either tea or not tea. In other words, the class column. Here, we call the class column as `tea_no_tea`. This is very important as it is what the library uses to create a label binary layer under the hood to intersect with the satellite image. We achieve this as follows:"
      ],
      "metadata": {
        "id": "gASRx2B-05QF"
      }
    },
    {
      "cell_type": "code",
      "source": [
        "# Define the label (here vector but can also be mask raster) dataset class.\n",
        "# Remember to include label name. Never forget this!\n",
        "\n",
        "class LabelDataset(VectorDataset):\n",
        "  filename_glob = \"*.gpkg\"\n",
        "label_data = LabelDataset(paths = \"/content\", label_name = \"tea_no_tea\")"
      ],
      "metadata": {
        "id": "NGv90kvA0rHW"
      },
      "execution_count": null,
      "outputs": []
    },
    {
      "cell_type": "markdown",
      "source": [
        "## Combining `raster_data` and `label_data`\n",
        "___\n",
        "Now that we have blueprints of both raster_data and label_data, the next step is to intersect the two. This will behave like _cropping_ or _clipping_ the raster to the extent of the label_data. This is the reason why we are not worried that the raster extent is bigger than the label extent. Chips for training the model will only be ontained from where the two datasets intersect/overlap. Regions outside the label_data will not be sampled. As simple as it can get, we achieve this intersection using an _&_ operator."
      ],
      "metadata": {
        "id": "GXrnN5391E1C"
      }
    },
    {
      "cell_type": "code",
      "source": [
        "# Create the intersection of the raster and vector/label datasets\n",
        "\n",
        "training_data = raster_data & label_data"
      ],
      "metadata": {
        "colab": {
          "base_uri": "https://localhost:8080/"
        },
        "id": "_skUtBwb0rEO",
        "outputId": "9121674a-3b63-42b8-b0a1-a51a316434ab"
      },
      "execution_count": null,
      "outputs": [
        {
          "output_type": "stream",
          "name": "stdout",
          "text": [
            "Converting LabelDataset res from (0.0001, 0.0001) to (10.0, 10.0)\n"
          ]
        }
      ]
    },
    {
      "cell_type": "markdown",
      "source": [
        "You notice the printout that **Converting LabelDataset res from (0.0001, 0.0001) to (10.0, 10.0)**. This tells us that our vector label data with polygons has now been converted to a binary raster under the hood with a pixel size similar to that of the satellite image we have - Sentinel-2. Something imortant to note also is that the pixels in both layers has been **aligned**."
      ],
      "metadata": {
        "id": "r5gzrFam1La-"
      }
    },
    {
      "cell_type": "markdown",
      "source": [
        "# Create sampler\n",
        "---\n",
        "Since we did not pre-chip the satellite image, we need to provide a sampler which will do the task of obtaining small chips from the original image and pushing them to the model for training at a time. This is important since we cannot push the whole image to the model at once. In this case, we use [RandomGeoSampler](https://torchgeo.readthedocs.io/en/latest/api/samplers.html) which randomly picks unique but overlaping patches from the region of interest. This allows us to pick more patches from the study area than if we pre-chipped it. We achieve this as follows:"
      ],
      "metadata": {
        "id": "oFt4qcvc4dyz"
      }
    },
    {
      "cell_type": "code",
      "source": [
        "# Define the sampler that will execute the task of extracting samples\n",
        "\n",
        "sampler = RandomGeoSampler(dataset = training_data, size = 32, length = 1000)"
      ],
      "metadata": {
        "id": "7C7LvsPL0q9e"
      },
      "execution_count": null,
      "outputs": []
    },
    {
      "cell_type": "markdown",
      "source": [
        "# **Create data loader**\n",
        "---\n",
        "Once we have created a sampler that splits the big image to small patches within the region of interest, we do the next task of creating a data loader. This is what collected the slices or patches from the sampler in groups and pushes them to the model for training, validation, and testing as well as prediction tasks. This is attained as follows:"
      ],
      "metadata": {
        "id": "EKl0OOJ1509F"
      }
    },
    {
      "cell_type": "code",
      "source": [
        "# Initialize the dataloader. This is the function that will be serving the role of availing batches of extracted samples for model training\n",
        "dataloader = DataLoader(\n",
        "    dataset = training_data,\n",
        "    batch_size = 50,\n",
        "    sampler = sampler,\n",
        "    collate_fn = stack_samples\n",
        ")"
      ],
      "metadata": {
        "id": "1vSP5CIt1X5_"
      },
      "execution_count": null,
      "outputs": []
    },
    {
      "cell_type": "markdown",
      "source": [
        "## Check the loader\n",
        "\n",
        "Here we then check whether the dataloader is working as expected. That is, whether it is getting 50 small images and 50 labels from the sampler to take to the model."
      ],
      "metadata": {
        "id": "zAdX1YMt7HMg"
      }
    },
    {
      "cell_type": "code",
      "source": [
        "# Iterate through the dataloader to confirm that it is able to load the data\n",
        "\n",
        "for batch in dataloader:\n",
        "  image = batch[\"image\"][:, :11, :, :]\n",
        "  mask = image[:, -1, :, :]\n",
        "\n",
        "  print(f\"Image batch length: {len(image)}\")\n",
        "  print(f\"Mask batch length: {len(mask)}\")\n",
        "  break"
      ],
      "metadata": {
        "colab": {
          "base_uri": "https://localhost:8080/"
        },
        "id": "AvP_3oAi1X2u",
        "outputId": "a02b40e0-ce49-42dd-92da-a4653306da55"
      },
      "execution_count": null,
      "outputs": [
        {
          "output_type": "stream",
          "name": "stdout",
          "text": [
            "Image batch length: 50\n",
            "Mask batch length: 50\n"
          ]
        }
      ]
    },
    {
      "cell_type": "markdown",
      "source": [
        "# **Define the model**\n",
        "---\n",
        "\n",
        "Here we then remember our torchseg to give us a model/method to train our data which the sampler has sliced and the loader has gathered. torchseg has several models but we will use Unet which is a very common deep learning model, especially for segmentation tasks. In this setup, `encoder_name=\"resnet18\"` specifies the encoder, which is the feature extractor part. `encoder_weights=False` means we are not using pre-trained weights from imagenet, we will train it from scratch from our data. `in_channels=10` indicates that our Sentinel-2 image has 10 channels/bands. This is different from 3 channels of RGB. Lastly `classes=2` sets the number of output classes, which in our case is 2, tea and non-tea.\n"
      ],
      "metadata": {
        "id": "7Jq8G2S37hpq"
      }
    },
    {
      "cell_type": "code",
      "source": [
        "# We will use Unet model from torchseg.\n",
        "# Which is pretrained so we do not need to build it from scratch\n",
        "model = torchseg.Unet(\n",
        "    encoder_name = \"resnet18\",\n",
        "    encoder_weights = False,\n",
        "    in_channels = 10,\n",
        "    classes = 2\n",
        ")"
      ],
      "metadata": {
        "id": "99g0hQ-h1Xzj"
      },
      "execution_count": null,
      "outputs": []
    },
    {
      "cell_type": "markdown",
      "source": [
        "## Move the model to the device\n",
        "\n",
        "After defining the model. We need to move it to the right device. If a GPU is available, we should use it to speed up the model training. Something we could not do with classical machine learning. However, if we do not have GPU in our machine, we fall back to CPU. As you can imagine, there is a lot of data going to the model at a time and GPU excels in such kinds of analyses."
      ],
      "metadata": {
        "id": "uvHLzXRf_Ekx"
      }
    },
    {
      "cell_type": "code",
      "source": [
        "# Use cuda if available, otherwise cpu\n",
        "\n",
        "device = torch.device(\"cuda\" if torch.cuda.is_available() else \"cpu\")\n",
        "model.to(device)"
      ],
      "metadata": {
        "id": "EqMhnBGG1XwL"
      },
      "execution_count": null,
      "outputs": []
    },
    {
      "cell_type": "markdown",
      "source": [
        "## Defining the loss function and optimizer\n",
        "\n",
        "We then set up the loss function and optimizer, which tell the model how wrong it is at each epoch and how to improve weights in the next training episode/epoch. `crossEntropyLoss` is useful for multiclass/binary classification. We go ahead and tell it to ignore pixels labelled -1. Remember in our label we only had 0 (no tea) and 1 (tea). However, sometimes we may have unknowns and label them as -1 or any other number. Such unknowns should be ignored in loss calculation.`Adam` (Adaptive Moment Estimation) is an optimizer that automatically adjusts the learning rate during training. It helps to attain faster and more stable convergence than older methods like SGD. `lr=0.001` marks the initial learning rate. It is a smaller number that controls how big the model's updates are. 0.001 is a common default that works well. If too low, the model can be very slow."
      ],
      "metadata": {
        "id": "90HgC2xQATwU"
      }
    },
    {
      "cell_type": "code",
      "source": [
        "# Define the loss function and optimizer\n",
        "\n",
        "criterion = nn.CrossEntropyLoss(ignore_index = -1)\n",
        "optimizer = torch.optim.Adam(model.parameters(), lr = 0.001)"
      ],
      "metadata": {
        "id": "gVGGo31n1j0t"
      },
      "execution_count": null,
      "outputs": []
    },
    {
      "cell_type": "markdown",
      "source": [
        "## Evaluation metrics\n",
        "\n",
        "When training our model, we need to know whether the model is learning from the samples it is exposed to during each epoch. Therefore, we need to capture some evaluation metrics. There are so many evaluation metrics such as loss, accuracy, intersection over union, F1, recall etc. Here, we will only look at two for now; loss and accuracy."
      ],
      "metadata": {
        "id": "9qlvQNv4DDjN"
      }
    },
    {
      "cell_type": "code",
      "source": [
        "# Evaluation metrics\n",
        "metrics = {\"loss\": [], \"accuracy\": []}"
      ],
      "metadata": {
        "id": "yQK1Wzto1jw4"
      },
      "execution_count": null,
      "outputs": []
    },
    {
      "cell_type": "markdown",
      "source": [
        "# **Training loop**\n",
        "---\n",
        "\n",
        "Most of the things going into the training loop we have already defined. Note that `num_epochs` is the number of times we want the model to go through all samples. We can set it to larger number if we see that the model is still learning. However, making it too big can delay the whole process and maybe waste precious energy/electricity. Set it modestly. Also note that we are capturing the evaluation metrics in a json file so that we can load them later to visualize."
      ],
      "metadata": {
        "id": "X-KonZ1YDprc"
      }
    },
    {
      "cell_type": "code",
      "source": [
        "# Training loop\n",
        "\n",
        "num_epochs = 10\n",
        "best_accuracy = 0.0 # Track the best accuracy, normally best IoU.\n",
        "\n",
        "for epoch in range(num_epochs):\n",
        "  model.train()\n",
        "  epoch_loss = 0.0\n",
        "  total_correct = 0\n",
        "  total_pixels = 0\n",
        "\n",
        "  with tqdm(dataloader, desc = f\"Epoch {epoch + 1} / {num_epochs}\") as pbar:\n",
        "    for batch in pbar:\n",
        "      images = batch[\"image\"][:, :11, :, :].to(device)\n",
        "      masks = batch[\"mask\"].to(device)\n",
        "\n",
        "      # Forward pass\n",
        "      outputs = model(images)\n",
        "      loss = criterion(outputs, masks.long())\n",
        "      epoch_loss += loss.item()\n",
        "\n",
        "      # Backpropagation\n",
        "      optimizer.zero_grad()\n",
        "      loss.backward()\n",
        "      optimizer.step()\n",
        "\n",
        "      # Calculate accuracy\n",
        "      preds = torch.argmax(outputs, dim = 1)\n",
        "      total_correct += (preds == masks).sum().item()\n",
        "      total_pixels += masks.numel()\n",
        "\n",
        "      pbar.set_postfix(loss = loss.item())\n",
        "\n",
        "  epoch_accuracy = total_correct / total_pixels * 100\n",
        "  metrics[\"loss\"].append(epoch_loss)\n",
        "  metrics[\"accuracy\"].append(epoch_accuracy)\n",
        "\n",
        "  print(f\"Epoch [{epoch + 1}/{num_epochs}], Loss: {epoch_loss:.4f}, Accuracy: {epoch_accuracy:.2f}%\")\n",
        "\n",
        "  # Save training metrics\n",
        "  with open(\"/content/training_metrics.json\", \"w\") as f:\n",
        "    json.dump(metrics, f)\n",
        "\n",
        "  print(\"Training metrics saved to '/content/training_metrics.json\")\n",
        "\n",
        "  # Save best model based on accuracy\n",
        "  if epoch_accuracy > best_accuracy:\n",
        "    best_accuracy = epoch_accuracy\n",
        "    torch.save(model.state_dict(), \"/content/best_tea_model.pth\")\n",
        "    print(f\"Best model saved with accuracy: {best_accuracy: .2f}%\")\n"
      ],
      "metadata": {
        "colab": {
          "base_uri": "https://localhost:8080/"
        },
        "id": "4l08G_R41jtA",
        "outputId": "89f956d6-9b26-4f81-9cd1-732e2999d234"
      },
      "execution_count": 53,
      "outputs": [
        {
          "metadata": {
            "tags": null
          },
          "name": "stderr",
          "output_type": "stream",
          "text": [
            "Epoch 1 / 10: 100%|██████████| 20/20 [01:56<00:00,  5.82s/it, loss=0.238]\n"
          ]
        },
        {
          "metadata": {
            "tags": null
          },
          "name": "stdout",
          "output_type": "stream",
          "text": [
            "Epoch [1/10], Loss: 7.1037, Accuracy: 83.86%\n",
            "Training metrics saved to '/content/training_metrics.json\n",
            "Best model saved with accuracy:  83.86%\n"
          ]
        },
        {
          "metadata": {
            "tags": null
          },
          "name": "stderr",
          "output_type": "stream",
          "text": [
            "Epoch 2 / 10: 100%|██████████| 20/20 [01:53<00:00,  5.68s/it, loss=0.169]\n"
          ]
        },
        {
          "metadata": {
            "tags": null
          },
          "name": "stdout",
          "output_type": "stream",
          "text": [
            "Epoch [2/10], Loss: 3.9426, Accuracy: 91.66%\n",
            "Training metrics saved to '/content/training_metrics.json\n",
            "Best model saved with accuracy:  91.66%\n"
          ]
        },
        {
          "metadata": {
            "tags": null
          },
          "name": "stderr",
          "output_type": "stream",
          "text": [
            "Epoch 3 / 10: 100%|██████████| 20/20 [01:53<00:00,  5.68s/it, loss=0.136]\n"
          ]
        },
        {
          "metadata": {
            "tags": null
          },
          "name": "stdout",
          "output_type": "stream",
          "text": [
            "Epoch [3/10], Loss: 3.0447, Accuracy: 93.57%\n",
            "Training metrics saved to '/content/training_metrics.json\n",
            "Best model saved with accuracy:  93.57%\n"
          ]
        },
        {
          "metadata": {
            "tags": null
          },
          "name": "stderr",
          "output_type": "stream",
          "text": [
            "Epoch 4 / 10: 100%|██████████| 20/20 [01:55<00:00,  5.78s/it, loss=0.12]\n"
          ]
        },
        {
          "metadata": {
            "tags": null
          },
          "name": "stdout",
          "output_type": "stream",
          "text": [
            "Epoch [4/10], Loss: 2.4743, Accuracy: 94.80%\n",
            "Training metrics saved to '/content/training_metrics.json\n",
            "Best model saved with accuracy:  94.80%\n"
          ]
        },
        {
          "metadata": {
            "tags": null
          },
          "name": "stderr",
          "output_type": "stream",
          "text": [
            "Epoch 5 / 10: 100%|██████████| 20/20 [01:55<00:00,  5.77s/it, loss=0.0947]\n"
          ]
        },
        {
          "metadata": {
            "tags": null
          },
          "name": "stdout",
          "output_type": "stream",
          "text": [
            "Epoch [5/10], Loss: 2.0758, Accuracy: 95.68%\n",
            "Training metrics saved to '/content/training_metrics.json\n",
            "Best model saved with accuracy:  95.68%\n"
          ]
        },
        {
          "metadata": {
            "tags": null
          },
          "name": "stderr",
          "output_type": "stream",
          "text": [
            "Epoch 6 / 10: 100%|██████████| 20/20 [01:53<00:00,  5.69s/it, loss=0.0944]\n"
          ]
        },
        {
          "metadata": {
            "tags": null
          },
          "name": "stdout",
          "output_type": "stream",
          "text": [
            "Epoch [6/10], Loss: 1.7776, Accuracy: 96.38%\n",
            "Training metrics saved to '/content/training_metrics.json\n",
            "Best model saved with accuracy:  96.38%\n"
          ]
        },
        {
          "metadata": {
            "tags": null
          },
          "name": "stderr",
          "output_type": "stream",
          "text": [
            "Epoch 7 / 10: 100%|██████████| 20/20 [01:52<00:00,  5.63s/it, loss=0.0674]\n"
          ]
        },
        {
          "metadata": {
            "tags": null
          },
          "name": "stdout",
          "output_type": "stream",
          "text": [
            "Epoch [7/10], Loss: 1.5361, Accuracy: 96.99%\n",
            "Training metrics saved to '/content/training_metrics.json\n",
            "Best model saved with accuracy:  96.99%\n"
          ]
        },
        {
          "metadata": {
            "tags": null
          },
          "name": "stderr",
          "output_type": "stream",
          "text": [
            "Epoch 8 / 10: 100%|██████████| 20/20 [01:53<00:00,  5.69s/it, loss=0.0625]\n"
          ]
        },
        {
          "metadata": {
            "tags": null
          },
          "name": "stdout",
          "output_type": "stream",
          "text": [
            "Epoch [8/10], Loss: 1.3699, Accuracy: 97.33%\n",
            "Training metrics saved to '/content/training_metrics.json\n",
            "Best model saved with accuracy:  97.33%\n"
          ]
        },
        {
          "metadata": {
            "tags": null
          },
          "name": "stderr",
          "output_type": "stream",
          "text": [
            "Epoch 9 / 10: 100%|██████████| 20/20 [01:52<00:00,  5.63s/it, loss=0.065]\n"
          ]
        },
        {
          "metadata": {
            "tags": null
          },
          "name": "stdout",
          "output_type": "stream",
          "text": [
            "Epoch [9/10], Loss: 1.2245, Accuracy: 97.68%\n",
            "Training metrics saved to '/content/training_metrics.json\n",
            "Best model saved with accuracy:  97.68%\n"
          ]
        },
        {
          "output_type": "stream",
          "name": "stderr",
          "text": [
            "Epoch 10 / 10: 100%|██████████| 20/20 [01:52<00:00,  5.61s/it, loss=0.0493]"
          ]
        },
        {
          "output_type": "stream",
          "name": "stdout",
          "text": [
            "Epoch [10/10], Loss: 1.0771, Accuracy: 98.02%\n",
            "Training metrics saved to '/content/training_metrics.json\n",
            "Best model saved with accuracy:  98.02%\n"
          ]
        },
        {
          "output_type": "stream",
          "name": "stderr",
          "text": [
            "\n"
          ]
        }
      ]
    },
    {
      "cell_type": "code",
      "source": [
        "# Load training metrics from JSON file\n",
        "with open(\"/content/training_metrics.json\", \"r\") as f:\n",
        "    metrics = json.load(f)\n",
        "\n",
        "# Extract loss and accuracy values\n",
        "loss_values = metrics[\"loss\"]\n",
        "accuracy_values = metrics[\"accuracy\"]\n",
        "epochs = range(1, len(loss_values) + 1)\n",
        "\n",
        "# Create the plots\n",
        "fig, ax1 = plt.subplots()\n",
        "\n",
        "# Plot loss\n",
        "ax1.set_xlabel(\"Epochs\")\n",
        "ax1.set_ylabel(\"Loss\", color=\"tab:red\")\n",
        "ax1.plot(epochs, loss_values, label=\"Loss\", color=\"tab:red\")\n",
        "ax1.tick_params(axis=\"y\", labelcolor=\"tab:red\")\n",
        "\n",
        "# Create a second y-axis for accuracy\n",
        "ax2 = ax1.twinx()\n",
        "ax2.set_ylabel(\"Accuracy (%)\", color=\"tab:blue\")\n",
        "ax2.plot(epochs, accuracy_values, label=\"Accuracy\", color=\"tab:blue\")\n",
        "ax2.tick_params(axis=\"y\", labelcolor=\"tab:blue\")\n",
        "\n",
        "fig.tight_layout()\n",
        "plt.title(\"Training Loss & Accuracy Over Epochs\")\n",
        "plt.show()"
      ],
      "metadata": {
        "colab": {
          "base_uri": "https://localhost:8080/",
          "height": 509
        },
        "id": "h13n9smM1q69",
        "outputId": "f29365a5-809d-47fe-ff97-826251de66f3"
      },
      "execution_count": 54,
      "outputs": [
        {
          "output_type": "display_data",
          "data": {
            "text/plain": [
              "<Figure size 640x480 with 2 Axes>"
            ],
            "image/png": "[encoded data removed]"
          },
          "metadata": {}
        }
      ]
    },
    {
      "cell_type": "markdown",
      "source": [
        "# Prediction over the whole study area"
      ],
      "metadata": {
        "id": "HPnu2a-KOvWG"
      }
    },
    {
      "cell_type": "code",
      "source": [
        "import torch\n",
        "import numpy as np\n",
        "import rasterio\n",
        "from torchgeo.samplers import GridGeoSampler\n",
        "from torch.utils.data import DataLoader\n",
        "from torchgeo.datasets import stack_samples\n",
        "from tqdm import tqdm\n",
        "\n",
        "# Set model to evaluation mode\n",
        "model.eval()\n",
        "\n",
        "# Create a GridGeoSampler for full coverage prediction\n",
        "grid_sampler = GridGeoSampler(\n",
        "    dataset=raster_data,\n",
        "    size=32,  # Same as training\n",
        "    stride=16  # Overlapping to avoid edge artifacts\n",
        ")\n"
      ],
      "metadata": {
        "id": "GU40IAB7cgCw"
      },
      "execution_count": 60,
      "outputs": []
    },
    {
      "cell_type": "code",
      "source": [
        "# Iterate through the dataloader to confirm that it is able to load the data\n",
        "class GeoTiffDataset(RasterDataset):\n",
        "  filename_glob = \"*tutorial.tif\"\n",
        "raster_data = GeoTiffDataset(paths = \"/content\")\n",
        "# Create prediction dataloader\n",
        "pred_dataloader = DataLoader(\n",
        "    dataset=raster_data,\n",
        "    batch_size=50,\n",
        "    sampler=grid_sampler,\n",
        "    collate_fn=stack_samples\n",
        ")\n",
        "for batch in pred_dataloader:\n",
        "  image = batch[\"image\"][:, :11, :, :]\n",
        "\n",
        "  print(f\"Image batch length: {len(image)}\")\n",
        "  print(batch.keys())\n",
        "  break"
      ],
      "metadata": {
        "colab": {
          "base_uri": "https://localhost:8080/"
        },
        "id": "spfjEqSZckcV",
        "outputId": "86352b8c-37d1-4437-f343-635f60f658ab"
      },
      "execution_count": 69,
      "outputs": [
        {
          "output_type": "stream",
          "name": "stdout",
          "text": [
            "Image batch length: 50\n",
            "dict_keys(['crs', 'bounds', 'image'])\n"
          ]
        }
      ]
    },
    {
      "cell_type": "code",
      "source": [
        "# Get raster metadata from the first file for output\n",
        "with rasterio.open(raster_data.files[0]) as src:\n",
        "    profile = src.profile\n",
        "    transform = src.transform\n",
        "    crs = src.crs\n",
        "    height = src.height\n",
        "    width = src.width\n",
        "\n",
        "# Initialize empty arrays\n",
        "full_pred = np.zeros((height, width), dtype=np.float32)\n",
        "count = np.zeros((height, width), dtype=np.uint8)\n",
        "\n",
        "# Make predictions\n",
        "with torch.no_grad():\n",
        "    for batch in tqdm(pred_dataloader, desc=\"Making predictions\"):\n",
        "        # Handle image bands\n",
        "        images = batch[\"image\"]\n",
        "        if images.shape[1] > 10:\n",
        "            images = images[:, :10, :, :]\n",
        "        images = images.to(device)\n",
        "\n",
        "        # Get predictions\n",
        "        outputs = model(images)\n",
        "        preds = torch.argmax(outputs, dim=1).cpu().numpy()\n",
        "\n",
        "        # Process each prediction\n",
        "        for i in range(len(preds)):\n",
        "            bbox = batch[\"bounds\"][i]\n",
        "            minx, maxx = bbox.minx, bbox.maxx\n",
        "            miny, maxy = bbox.miny, bbox.maxy\n",
        "\n",
        "            # Convert to pixel coordinates\n",
        "            col_off, row_off = ~transform * (minx, maxy)\n",
        "            col_off, row_off = int(col_off), int(row_off)\n",
        "\n",
        "            # Get predicted patch dimensions\n",
        "            pred_height, pred_width = preds[i].shape[-2], preds[i].shape[-1]\n",
        "\n",
        "            # Calculate valid window in output array\n",
        "            row_start = max(row_off, 0)\n",
        "            col_start = max(col_off, 0)\n",
        "            row_end = min(row_off + pred_height, height)\n",
        "            col_end = min(col_off + pred_width, width)\n",
        "\n",
        "            # Calculate corresponding window in prediction\n",
        "            pred_row_start = max(0, -row_off)\n",
        "            pred_col_start = max(0, -col_off)\n",
        "            pred_row_end = pred_row_start + (row_end - row_start)\n",
        "            pred_col_end = pred_col_start + (col_end - col_start)\n",
        "\n",
        "            # Only proceed if we have valid dimensions\n",
        "            if (row_end > row_start) and (col_end > col_start):\n",
        "                full_pred[row_start:row_end, col_start:col_end] += preds[i, pred_row_start:pred_row_end, pred_col_start:pred_col_end]\n",
        "                count[row_start:row_end, col_start:col_end] += 1\n",
        "\n",
        "# Average predictions\n",
        "valid_mask = count > 0\n",
        "full_pred[valid_mask] = full_pred[valid_mask] / count[valid_mask]\n",
        "full_pred = np.round(full_pred).astype(np.uint8)\n",
        "full_pred[~valid_mask] = 255  # nodata\n",
        "\n",
        "# Update and save output\n",
        "profile.update(\n",
        "    dtype=rasterio.uint8,\n",
        "    count=1,\n",
        "    compress='lzw',\n",
        "    nodata=255\n",
        ")\n",
        "\n",
        "with rasterio.open('/content/full_prediction.tif', 'w', **profile) as dst:\n",
        "    dst.write(full_pred, 1)\n",
        "    dst.write_colormap(1, {\n",
        "        0: (0, 100, 0, 255),    # Green for class 0\n",
        "        1: (255, 215, 0, 255),   # Gold for class 1\n",
        "        255: (0, 0, 0, 0)        # Transparent for nodata\n",
        "    })\n",
        "\n",
        "print(\"Prediction saved as '/content/full_prediction.tif'\")\n"
      ],
      "metadata": {
        "colab": {
          "base_uri": "https://localhost:8080/"
        },
        "id": "8Xf92P91gMDR",
        "outputId": "45f5b6cc-039d-4f91-f115-eb559512a292"
      },
      "execution_count": 73,
      "outputs": [
        {
          "output_type": "stream",
          "name": "stderr",
          "text": [
            "Making predictions: 100%|██████████| 9/9 [00:04<00:00,  2.02it/s]"
          ]
        },
        {
          "output_type": "stream",
          "name": "stdout",
          "text": [
            "Prediction saved as '/content/full_prediction.tif'\n"
          ]
        },
        {
          "output_type": "stream",
          "name": "stderr",
          "text": [
            "\n"
          ]
        }
      ]
    },
    {
      "cell_type": "code",
      "source": [
        "with rasterio.open('/content/full_prediction.tif') as src:\n",
        "    pred = src.read(1)\n",
        "\n",
        "# Plot\n",
        "plt.imshow(pred, cmap='gray')\n",
        "plt.axis('off')\n",
        "plt.show()"
      ],
      "metadata": {
        "colab": {
          "base_uri": "https://localhost:8080/",
          "height": 313
        },
        "id": "s4e2cGbHhSox",
        "outputId": "060bf9c9-49c7-4436-e6d5-c440ea94a690"
      },
      "execution_count": 74,
      "outputs": [
        {
          "output_type": "display_data",
          "data": {
            "text/plain": [
              "<Figure size 640x480 with 1 Axes>"
            ],
            "image/png": "[encoded data removed]"
          },
          "metadata": {}
        }
      ]
    },
    {
      "cell_type": "code",
      "source": [
        "import geopandas as gpd\n",
        "import rasterio\n",
        "import rasterio.sample\n",
        "import numpy as np\n",
        "from sklearn.metrics import accuracy_score, confusion_matrix, classification_report\n",
        "\n",
        "# 1. Load prediction raster\n",
        "with rasterio.open('/content/full_prediction.tif') as src:\n",
        "    pred_raster = src.read(1)\n",
        "    transform = src.transform\n",
        "\n",
        "# 2. Load evaluation points\n",
        "gdf = gpd.read_file('/content/eval.gpkg')\n",
        "\n",
        "# 3. Extract predicted values at point locations\n",
        "coords = [(x,y) for x, y in zip(gdf.geometry.x, gdf.geometry.y)]\n",
        "\n",
        "with rasterio.open('/content/full_prediction.tif') as src:\n",
        "    sampled_pred = list(src.sample(coords))\n",
        "    sampled_pred = np.array([val[0] for val in sampled_pred])\n",
        "\n",
        "# 4. Remove nodata points (255)\n",
        "valid_idx = sampled_pred != 255\n",
        "sampled_pred = sampled_pred[valid_idx]\n",
        "true_labels = gdf.loc[valid_idx, 'tea_no_tea'].values\n",
        "\n",
        "# 5. Run evaluation\n",
        "print(\"Accuracy:\", accuracy_score(true_labels, sampled_pred))\n",
        "print(\"Confusion Matrix:\\n\", confusion_matrix(true_labels, sampled_pred))\n",
        "print(\"Classification Report:\\n\", classification_report(true_labels, sampled_pred))\n"
      ],
      "metadata": {
        "colab": {
          "base_uri": "https://localhost:8080/"
        },
        "id": "mvakf7zntOLe",
        "outputId": "93a5e493-7395-4e96-ae0d-5653e59aee72"
      },
      "execution_count": 76,
      "outputs": [
        {
          "output_type": "stream",
          "name": "stdout",
          "text": [
            "Accuracy: 0.975\n",
            "Confusion Matrix:\n",
            " [[99  1]\n",
            " [ 4 96]]\n",
            "Classification Report:\n",
            "               precision    recall  f1-score   support\n",
            "\n",
            "           0       0.96      0.99      0.98       100\n",
            "           1       0.99      0.96      0.97       100\n",
            "\n",
            "    accuracy                           0.97       200\n",
            "   macro avg       0.98      0.97      0.97       200\n",
            "weighted avg       0.98      0.97      0.97       200\n",
            "\n"
          ]
        }
      ]
    },
    {
      "cell_type": "code",
      "source": [],
      "metadata": {
        "id": "xK706zqCt5xu"
      },
      "execution_count": null,
      "outputs": []
    }
  ]
}